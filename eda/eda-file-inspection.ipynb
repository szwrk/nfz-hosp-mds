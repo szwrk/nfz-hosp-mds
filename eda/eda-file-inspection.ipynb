{
 "cells": [
  {
   "cell_type": "markdown",
   "id": "821c9d67",
   "metadata": {},
   "source": [
    "# OS Level Analysis, Sanity check & File inspection, "
   ]
  },
  {
   "cell_type": "markdown",
   "id": "27ea1f7f",
   "metadata": {},
   "source": [
    "## Size"
   ]
  },
  {
   "cell_type": "code",
   "execution_count": 50,
   "id": "454936fa",
   "metadata": {},
   "outputs": [
    {
     "name": "stdout",
     "output_type": "stream",
     "text": [
      "jgp.csv\n",
      "\n",
      "../app/data/jgp.csv: Unicode text, UTF-8 text, with CRLF line terminators\n",
      "- Last modified: Feb 10 02:07\n",
      "- Row count: 538\n",
      "- Size: 36K\n",
      "----------------------------------------\n",
      "nfz_hospitalizations_2019-2021.csv\n",
      "\n",
      "../app/data/nfz_hospitalizations_2019-2021.csv: Unicode text, UTF-8 text, with CRLF line terminators\n",
      "- Last modified: Feb 10 02:08\n",
      "- Row count: 17685698\n",
      "- Size: 1.9G\n",
      "----------------------------------------\n",
      "nfz_hospitalizations_2022.csv\n",
      "\n",
      "../app/data/nfz_hospitalizations_2022.csv: Unicode text, UTF-8 text, with CRLF line terminators\n",
      "- Last modified: Feb 10 02:08\n",
      "- Row count: 3508652\n",
      "- Size: 326M\n",
      "----------------------------------------\n"
     ]
    }
   ],
   "source": [
    "!for file in ../app/data/*.csv; do \\\n",
    "  basename $file; \\\n",
    "  echo; \\\n",
    "  file \"$file\"; \\\n",
    "  echo \"- Last modified: $(ls -lh \"$file\" | awk '{print $6, $7, $8}')\"; \\\n",
    "  echo \"- Row count: $(wc -l < \"$file\")\"; \\\n",
    "  echo \"- Size: $(du -h \"$file\" | awk '{print $1}')\"; \\\n",
    "  echo \"----------------------------------------\"; \\\n",
    "done\n"
   ]
  },
  {
   "cell_type": "markdown",
   "id": "04931b03",
   "metadata": {},
   "source": [
    "## Header"
   ]
  },
  {
   "cell_type": "code",
   "execution_count": 52,
   "id": "cdfbf6c2",
   "metadata": {},
   "outputs": [
    {
     "name": "stdout",
     "output_type": "stream",
     "text": [
      "jgp.csv\n",
      "group_code|product_code|name\n",
      "----------------------------------------\n",
      "nfz_hospitalizations_2019-2021.csv\n",
      "2017  ;5   ;\"10\";\"2910050705\";\"03.4500.030.02\";\"5.51.01.0006100 \";6   ;1   ;1  ;\"18-44\";\"1-2 dni\";\"<5\"\n",
      "----------------------------------------\n",
      "nfz_hospitalizations_2022.csv\n",
      "ROK;MIESIAC;OW_NFZ;NIP_PODMIOTU;KOD_PRODUKTU_KONTRAKTOWEGO;KOD_PRODUKTU_JEDNOSTKOWEGO;KOD_TRYBU_PRZYJECIA;KOD_TRYBU_WYPISU;PLEC_PACJENTA;GRUPA_WIEKOWA_PACJENTA;PRZEDZIAL_DLUGOSCI_TRWANIA_HOSPITALIZACJI;LICZBA_HOSPITALIZACJI\n",
      "----------------------------------------\n"
     ]
    }
   ],
   "source": [
    "!for file in ../app/data/*.csv; do \\\n",
    "  basename $file; \\\n",
    "  head -n 1 \"$file\"; \\\n",
    "  echo \"----------------------------------------\"; \\\n",
    "done"
   ]
  },
  {
   "cell_type": "code",
   "execution_count": 45,
   "id": "2240b4ed",
   "metadata": {},
   "outputs": [
    {
     "name": "stdout",
     "output_type": "stream",
     "text": [
      "File                                Columns\n",
      "jgp.csv                             1\n",
      "nfz_hospitalizations_2019-2021.csv  12\n",
      "nfz_hospitalizations_2022.csv       12\n"
     ]
    }
   ],
   "source": [
    "!(echo -e \"File\\tColumns\"; \\\n",
    "for file in ../app/data/*.csv; do \\\n",
    "    printf \"%s\\t\" \"$(basename \"$file\")\"; \\\n",
    "    awk -F';' 'NR==1 {print NF; exit}' \"$file\"; \\\n",
    "done) | column -t\n"
   ]
  },
  {
   "cell_type": "code",
   "execution_count": null,
   "id": "f45570dd",
   "metadata": {},
   "outputs": [],
   "source": []
  }
 ],
 "metadata": {
  "kernelspec": {
   "display_name": "venv",
   "language": "python",
   "name": "python3"
  },
  "language_info": {
   "codemirror_mode": {
    "name": "ipython",
    "version": 3
   },
   "file_extension": ".py",
   "mimetype": "text/x-python",
   "name": "python",
   "nbconvert_exporter": "python",
   "pygments_lexer": "ipython3",
   "version": "3.11.2"
  }
 },
 "nbformat": 4,
 "nbformat_minor": 5
}
