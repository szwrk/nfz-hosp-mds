{
 "cells": [
  {
   "cell_type": "code",
   "execution_count": null,
   "id": "530543f8",
   "metadata": {},
   "outputs": [],
   "source": [
    "import pandas as pd\n",
    "\n",
    "pd.read_csv(\"../app/data/nfz_hospitalizations_2019-2021.csv\", nrows=1)"
   ]
  },
  {
   "cell_type": "code",
   "execution_count": null,
   "id": "ca8202a3",
   "metadata": {},
   "outputs": [],
   "source": [
    "import glob\n",
    "import duckdb as db\n",
    "\n",
    "test = db.query(\"SELECT * FROM read_csv_auto ('../app/data/nfz_hospitalizations_2019-2021.csv')\")\n",
    "test\n",
    "\n"
   ]
  }
 ],
 "metadata": {
  "kernelspec": {
   "display_name": "venv",
   "language": "python",
   "name": "python3"
  },
  "language_info": {
   "name": "python",
   "version": "3.11.2"
  }
 },
 "nbformat": 4,
 "nbformat_minor": 5
}
