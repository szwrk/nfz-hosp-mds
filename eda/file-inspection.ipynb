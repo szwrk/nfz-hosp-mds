{
 "cells": [
  {
   "cell_type": "markdown",
   "id": "821c9d67",
   "metadata": {},
   "source": [
    "# OS Level Analysis, Sanity check & File inspection, "
   ]
  },
  {
   "cell_type": "markdown",
   "id": "27ea1f7f",
   "metadata": {},
   "source": [
    "## Size & Stats"
   ]
  },
  {
   "cell_type": "code",
   "execution_count": 54,
   "id": "454936fa",
   "metadata": {},
   "outputs": [
    {
     "name": "stdout",
     "output_type": "stream",
     "text": [
      "File                                Dt_mod      Rows      Size\n",
      "jgp.csv                             2025-02-10  538       36K\n",
      "nfz_hospitalizations_2019-2021.csv  2025-02-10  17685698  1.9G\n",
      "nfz_hospitalizations_2022.csv       2025-02-10  3508652   326M\n"
     ]
    }
   ],
   "source": [
    "!(echo -e \"File\\tDt_mod\\tRows\\tSize\"; \\\n",
    " for file in ../app/data/*.csv; do\\\n",
    "    fname=$(basename \"$file\");\\\n",
    "    dt_mod=$(stat -c '%y' \"$file\" | cut -d' ' -f1 | tr ' ' '_'); \\\n",
    "    rows=$(wc -l < \"$file\"); \\\n",
    "    size=$(du -h \"$file\" | awk '{print $1}');\\\n",
    "    echo -e \"$fname\\t$dt_mod\\t$rows\\t$size\"; \\\n",
    "  done) | column -t\n"
   ]
  },
  {
   "cell_type": "markdown",
   "id": "04931b03",
   "metadata": {},
   "source": [
    "## Raw CSV Header"
   ]
  },
  {
   "cell_type": "code",
   "execution_count": 56,
   "id": "cdfbf6c2",
   "metadata": {},
   "outputs": [
    {
     "name": "stdout",
     "output_type": "stream",
     "text": [
      "jgp.csv\n",
      "group_code|product_code|name\n",
      "A01|5.51.01.0001001|Zabiegi wewnątrzczaszkowe z powodu poważnego urazu,\n",
      "A02|5.51.01.0001002|Zabiegi wewnątrzczaszkowe z powodu urazu\n",
      "\n",
      "nfz_hospitalizations_2019-2021.csv\n",
      "2017  ;5   ;\"10\";\"2910050705\";\"03.4500.030.02\";\"5.51.01.0006100 \";6   ;1   ;1  ;\"18-44\";\"1-2 dni\";\"<5\"\n",
      "2017  ;9   ;\"15\";\"7772754458\";\"03.4570.930.02\";\"5.51.01.0001011 \";3   ;1   ;2  ;\"65 i więcej\";\"6 i więcej dni\";\"<5\"\n",
      "2017  ;5   ;\"06\";\"6771694570\";\"03.4100.030.02\";\"5.51.01.0005057 \";6   ;1   ;1  ;\"45-64\";\"3-5 dni\";\"<5\"\n",
      "\n",
      "nfz_hospitalizations_2022.csv\n",
      "ROK;MIESIAC;OW_NFZ;NIP_PODMIOTU;KOD_PRODUKTU_KONTRAKTOWEGO;KOD_PRODUKTU_JEDNOSTKOWEGO;KOD_TRYBU_PRZYJECIA;KOD_TRYBU_WYPISU;PLEC_PACJENTA;GRUPA_WIEKOWA_PACJENTA;PRZEDZIAL_DLUGOSCI_TRWANIA_HOSPITALIZACJI;LICZBA_HOSPITALIZACJI\n",
      "2022;4;\"07\";\"1132866688\";\"03.4580.991.02\";\"5.51.01.0008013\";6;2;\"K\";\"65 i więcej\";\"6 i więcej dni\";\"<5\"\n",
      "2022;8;\"02\";\"5562239217\";\"03.4220.030.02\";\"5.51.01.0001087\";3;2;\"K\";\"45-64\";\"6 i więcej dni\";\"<5\"\n",
      "\n"
     ]
    }
   ],
   "source": [
    "!for file in ../app/data/*.csv; do \\\n",
    "  fname=$(basename \"$file\"); \\\n",
    "  echo \"$fname\"; \\\n",
    "  head -n 3 \"$file\"; \\\n",
    "  echo \"\";\\\n",
    "done"
   ]
  },
  {
   "cell_type": "markdown",
   "id": "7327a77f",
   "metadata": {},
   "source": [
    "## Columns"
   ]
  },
  {
   "cell_type": "markdown",
   "id": "16dabb7e",
   "metadata": {},
   "source": [
    "**Separators**"
   ]
  },
  {
   "cell_type": "code",
   "execution_count": 15,
   "id": "2240b4ed",
   "metadata": {},
   "outputs": [
    {
     "name": "stdout",
     "output_type": "stream",
     "text": [
      "File                                Columns\n",
      "nfz_hospitalizations_2019-2021.csv  12\n",
      "nfz_hospitalizations_2022.csv       12\n"
     ]
    }
   ],
   "source": [
    "!(echo -e \"File\\tColumns\"; \\\n",
    "for file in ../app/data/*.csv; do \\\n",
    "    printf \"%s\\t\" \"$(basename \"$file\")\"; \\\n",
    "    awk -F';' 'NR==1 {print NF; exit}' \"$file\"; \\\n",
    "done) | awk -F'\\t' '$2 > 1' | column -t\n"
   ]
  },
  {
   "cell_type": "code",
   "execution_count": 54,
   "id": "f45570dd",
   "metadata": {},
   "outputs": [
    {
     "name": "stdout",
     "output_type": "stream",
     "text": [
      "File                                Columns\n",
      "jgp.csv                             3\n",
      "nfz_hospitalizations_2019-2021.csv  1\n",
      "nfz_hospitalizations_2022.csv       1\n"
     ]
    }
   ],
   "source": [
    "!(echo -e \"File\\tColumns\"; \\\n",
    "for file in ../app/data/*.csv; do \\\n",
    "    printf \"%s\\t\" \"$(basename \"$file\")\"; \\\n",
    "    awk -F'|' 'NR==1 {print NF; exit}' \"$file\"; \\\n",
    "done) | column -t"
   ]
  },
  {
   "cell_type": "code",
   "execution_count": 5,
   "id": "52ac95c0",
   "metadata": {},
   "outputs": [
    {
     "data": {
      "text/html": [
       "<div>\n",
       "<style scoped>\n",
       "    .dataframe tbody tr th:only-of-type {\n",
       "        vertical-align: middle;\n",
       "    }\n",
       "\n",
       "    .dataframe tbody tr th {\n",
       "        vertical-align: top;\n",
       "    }\n",
       "\n",
       "    .dataframe thead th {\n",
       "        text-align: right;\n",
       "    }\n",
       "</style>\n",
       "<table border=\"1\" class=\"dataframe\">\n",
       "  <thead>\n",
       "    <tr style=\"text-align: right;\">\n",
       "      <th></th>\n",
       "      <th>2017  ;5   ;\"10\";\"2910050705\";\"03.4500.030.02\";\"5.51.01.0006100 \";6   ;1   ;1  ;\"18-44\";\"1-2 dni\";\"&lt;5\"</th>\n",
       "    </tr>\n",
       "  </thead>\n",
       "  <tbody>\n",
       "    <tr>\n",
       "      <th>0</th>\n",
       "      <td>2017  ;9   ;\"15\";\"7772754458\";\"03.4570.930.02\"...</td>\n",
       "    </tr>\n",
       "  </tbody>\n",
       "</table>\n",
       "</div>"
      ],
      "text/plain": [
       "  2017  ;5   ;\"10\";\"2910050705\";\"03.4500.030.02\";\"5.51.01.0006100 \";6   ;1   ;1  ;\"18-44\";\"1-2 dni\";\"<5\"\n",
       "0  2017  ;9   ;\"15\";\"7772754458\";\"03.4570.930.02\"...                                                    "
      ]
     },
     "execution_count": 5,
     "metadata": {},
     "output_type": "execute_result"
    }
   ],
   "source": [
    "import pandas as pd\n",
    "\n",
    "pd.read_csv(\"../app/data/nfz_hospitalizations_2019-2021.csv\", nrows=1)"
   ]
  },
  {
   "cell_type": "code",
   "execution_count": null,
   "id": "f17cc8f9",
   "metadata": {},
   "outputs": [
    {
     "data": {
      "text/plain": [
       "┌──────────┬──────────┬──────────┬────────────┬────────────────┬──────────────────┬──────────┬──────────┬──────────┬─────────────┬────────────────┬──────────┐\n",
       "│ column00 │ column01 │ column02 │  column03  │    column04    │     column05     │ column06 │ column07 │ column08 │  column09   │    column10    │ column11 │\n",
       "│  int64   │  int64   │ varchar  │   int64    │    varchar     │     varchar      │  int64   │  int64   │  int64   │   varchar   │    varchar     │ varchar  │\n",
       "├──────────┼──────────┼──────────┼────────────┼────────────────┼──────────────────┼──────────┼──────────┼──────────┼─────────────┼────────────────┼──────────┤\n",
       "│     2017 │        5 │ 10       │ 2910050705 │ 03.4500.030.02 │ 5.51.01.0006100  │        6 │        1 │        1 │ 18-44       │ 1-2 dni        │ <5       │\n",
       "│     2017 │        9 │ 15       │ 7772754458 │ 03.4570.930.02 │ 5.51.01.0001011  │        3 │        1 │        2 │ 65 i więcej │ 6 i więcej dni │ <5       │\n",
       "│     2017 │        5 │ 06       │ 6771694570 │ 03.4100.030.02 │ 5.51.01.0005057  │        6 │        1 │        1 │ 45-64       │ 3-5 dni        │ <5       │\n",
       "│     2017 │        1 │ 03       │ 7162238942 │ 03.4640.030.02 │ 5.51.01.0011085  │        3 │        2 │        1 │ 18-44       │ 1-2 dni        │ <5       │\n",
       "│     2017 │        5 │ 08       │ 7543106048 │ 03.4000.030.02 │ 5.51.01.0016056  │        2 │        9 │        1 │ 65 i więcej │ 6 i więcej dni │ <5       │\n",
       "│     2017 │       11 │ 07       │ 9521789325 │ 03.4500.030.02 │ 5.51.01.0006093  │        3 │        2 │        2 │ 18-44       │ 1-2 dni        │ <5       │\n",
       "│     2017 │       10 │ 09       │ 8671880400 │ 03.4450.040.02 │ 5.51.01.0012002  │        6 │        1 │        2 │ 45-64       │ 6 i więcej dni │ <5       │\n",
       "│     2017 │        1 │ 12       │ 5732299604 │ 03.4450.060.02 │ 5.51.01.0012016  │        3 │        6 │        2 │ 18-44       │ 6 i więcej dni │ <5       │\n",
       "│     2017 │        4 │ 16       │ 6691044410 │ 03.4401.030.02 │ 5.51.01.0001059  │        2 │        2 │        2 │ 0-17        │ 3-5 dni        │ <5       │\n",
       "│     2017 │        9 │ 05       │ 7272392503 │ 03.4600.130.02 │ 5.51.01.0002018  │        3 │        1 │        1 │ 65 i więcej │ 1-2 dni        │ <5       │\n",
       "│       ·  │        · │ ·        │      ·     │       ·        │        ·         │        · │        · │        · │      ·      │    ·           │ ·        │\n",
       "│       ·  │        · │ ·        │      ·     │       ·        │        ·         │        · │        · │        · │      ·      │    ·           │ ·        │\n",
       "│       ·  │        · │ ·        │      ·     │       ·        │        ·         │        · │        · │        · │      ·      │    ·           │ ·        │\n",
       "│     2017 │        6 │ 05       │ 7321003187 │ 03.4050.030.02 │ 5.51.01.0006099  │        2 │        2 │        2 │ 65 i więcej │ 3-5 dni        │ <5       │\n",
       "│     2017 │        3 │ 05       │ 7681534113 │ 03.4500.030.02 │ 5.51.01.0015023  │        6 │        1 │        1 │ 45-64       │ 3-5 dni        │ <5       │\n",
       "│     2017 │        2 │ 08       │ 7543106048 │ 03.4580.030.02 │ 5.51.01.0008064  │        2 │        2 │        2 │ 65 i więcej │ 6 i więcej dni │ <5       │\n",
       "│     2017 │        9 │ 01       │ 8951645574 │ 03.4120.030.02 │ 5.51.01.0001045  │        6 │        1 │        1 │ 65 i więcej │ 6 i więcej dni │ <5       │\n",
       "│     2017 │        1 │ 16       │ 8512543558 │ 03.4550.030.02 │ 5.51.01.0008083  │        6 │        2 │        2 │ 45-64       │ 3-5 dni        │ <5       │\n",
       "│     2017 │        7 │ 06       │ 5250008838 │ 03.4273.030.02 │ 5.51.01.0004046  │        6 │        2 │        2 │ 0-17        │ 0 dni          │ <5       │\n",
       "│     2017 │        1 │ 07       │ 5322044744 │ 03.4640.031.02 │ 5.51.01.0011026  │        3 │        1 │        1 │ 45-64       │ 3-5 dni        │ <5       │\n",
       "│     2017 │        9 │ 07       │ 5252491419 │ 03.4500.030.02 │ 5.51.01.0007044  │        6 │        2 │        1 │ 65 i więcej │ 1-2 dni        │ <5       │\n",
       "│     2017 │        3 │ 06       │ 9552268113 │ 03.4100.030.02 │ 5.51.01.0005059  │        3 │        9 │        1 │ 45-64       │ 1-2 dni        │ <5       │\n",
       "│     2017 │        6 │ 11       │ 9570730409 │ 03.4100.130.02 │ 5.51.01.0005010  │        3 │        2 │        2 │ 45-64       │ 1-2 dni        │ <5       │\n",
       "├──────────┴──────────┴──────────┴────────────┴────────────────┴──────────────────┴──────────┴──────────┴──────────┴─────────────┴────────────────┴──────────┤\n",
       "│ ? rows (>9999 rows, 20 shown)                                                                                                                   12 columns │\n",
       "└────────────────────────────────────────────────────────────────────────────────────────────────────────────────────────────────────────────────────────────┘"
      ]
     },
     "execution_count": 7,
     "metadata": {},
     "output_type": "execute_result"
    }
   ],
   "source": [
    "import glob\n",
    "import duckdb as db\n",
    "\n",
    "test = db.query(\"SELECT * FROM read_csv_auto ('../app/data/nfz_hospitalizations_2019-2021.csv')\")\n",
    "test\n",
    "\n"
   ]
  },
  {
   "cell_type": "code",
   "execution_count": null,
   "id": "778d0c7e",
   "metadata": {},
   "outputs": [],
   "source": []
  }
 ],
 "metadata": {
  "kernelspec": {
   "display_name": "venv",
   "language": "python",
   "name": "python3"
  },
  "language_info": {
   "codemirror_mode": {
    "name": "ipython",
    "version": 3
   },
   "file_extension": ".py",
   "mimetype": "text/x-python",
   "name": "python",
   "nbconvert_exporter": "python",
   "pygments_lexer": "ipython3",
   "version": "3.11.2"
  }
 },
 "nbformat": 4,
 "nbformat_minor": 5
}
