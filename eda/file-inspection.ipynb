{
 "cells": [
  {
   "cell_type": "markdown",
   "id": "821c9d67",
   "metadata": {},
   "source": [
    "# OS Level Analysis, Sanity check & File inspection, "
   ]
  },
  {
   "cell_type": "markdown",
   "id": "27ea1f7f",
   "metadata": {},
   "source": [
    "## Size & Stats"
   ]
  },
  {
   "cell_type": "code",
   "execution_count": 54,
   "id": "454936fa",
   "metadata": {},
   "outputs": [
    {
     "name": "stdout",
     "output_type": "stream",
     "text": [
      "File                                Dt_mod      Rows      Size\n",
      "jgp.csv                             2025-02-10  538       36K\n",
      "nfz_hospitalizations_2019-2021.csv  2025-02-10  17685698  1.9G\n",
      "nfz_hospitalizations_2022.csv       2025-02-10  3508652   326M\n"
     ]
    }
   ],
   "source": [
    "!(echo -e \"File\\tDt_mod\\tRows\\tSize\"; \\\n",
    " for file in ../app/data/*.csv; do\\\n",
    "    fname=$(basename \"$file\");\\\n",
    "    dt_mod=$(stat -c '%y' \"$file\" | cut -d' ' -f1 | tr ' ' '_'); \\\n",
    "    rows=$(wc -l < \"$file\"); \\\n",
    "    size=$(du -h \"$file\" | awk '{print $1}');\\\n",
    "    echo -e \"$fname\\t$dt_mod\\t$rows\\t$size\"; \\\n",
    "  done) | column -t\n"
   ]
  },
  {
   "cell_type": "markdown",
   "id": "04931b03",
   "metadata": {},
   "source": [
    "## Raw CSV Header"
   ]
  },
  {
   "cell_type": "code",
   "execution_count": 56,
   "id": "cdfbf6c2",
   "metadata": {},
   "outputs": [
    {
     "name": "stdout",
     "output_type": "stream",
     "text": [
      "jgp.csv\n",
      "group_code|product_code|name\n",
      "A01|5.51.01.0001001|Zabiegi wewnątrzczaszkowe z powodu poważnego urazu,\n",
      "A02|5.51.01.0001002|Zabiegi wewnątrzczaszkowe z powodu urazu\n",
      "\n",
      "nfz_hospitalizations_2019-2021.csv\n",
      "2017  ;5   ;\"10\";\"2910050705\";\"03.4500.030.02\";\"5.51.01.0006100 \";6   ;1   ;1  ;\"18-44\";\"1-2 dni\";\"<5\"\n",
      "2017  ;9   ;\"15\";\"7772754458\";\"03.4570.930.02\";\"5.51.01.0001011 \";3   ;1   ;2  ;\"65 i więcej\";\"6 i więcej dni\";\"<5\"\n",
      "2017  ;5   ;\"06\";\"6771694570\";\"03.4100.030.02\";\"5.51.01.0005057 \";6   ;1   ;1  ;\"45-64\";\"3-5 dni\";\"<5\"\n",
      "\n",
      "nfz_hospitalizations_2022.csv\n",
      "ROK;MIESIAC;OW_NFZ;NIP_PODMIOTU;KOD_PRODUKTU_KONTRAKTOWEGO;KOD_PRODUKTU_JEDNOSTKOWEGO;KOD_TRYBU_PRZYJECIA;KOD_TRYBU_WYPISU;PLEC_PACJENTA;GRUPA_WIEKOWA_PACJENTA;PRZEDZIAL_DLUGOSCI_TRWANIA_HOSPITALIZACJI;LICZBA_HOSPITALIZACJI\n",
      "2022;4;\"07\";\"1132866688\";\"03.4580.991.02\";\"5.51.01.0008013\";6;2;\"K\";\"65 i więcej\";\"6 i więcej dni\";\"<5\"\n",
      "2022;8;\"02\";\"5562239217\";\"03.4220.030.02\";\"5.51.01.0001087\";3;2;\"K\";\"45-64\";\"6 i więcej dni\";\"<5\"\n",
      "\n"
     ]
    }
   ],
   "source": [
    "!for file in ../app/data/*.csv; do \\\n",
    "  fname=$(basename \"$file\"); \\\n",
    "  echo \"$fname\"; \\\n",
    "  head -n 3 \"$file\"; \\\n",
    "  echo \"\";\\\n",
    "done"
   ]
  },
  {
   "cell_type": "markdown",
   "id": "7327a77f",
   "metadata": {},
   "source": [
    "## Columns"
   ]
  },
  {
   "cell_type": "markdown",
   "id": "16dabb7e",
   "metadata": {},
   "source": [
    "**Separators**"
   ]
  },
  {
   "cell_type": "code",
   "execution_count": 15,
   "id": "2240b4ed",
   "metadata": {},
   "outputs": [
    {
     "name": "stdout",
     "output_type": "stream",
     "text": [
      "File                                Columns\n",
      "nfz_hospitalizations_2019-2021.csv  12\n",
      "nfz_hospitalizations_2022.csv       12\n"
     ]
    }
   ],
   "source": [
    "!(echo -e \"File\\tColumns\"; \\\n",
    "for file in ../app/data/*.csv; do \\\n",
    "    printf \"%s\\t\" \"$(basename \"$file\")\"; \\\n",
    "    awk -F';' 'NR==1 {print NF; exit}' \"$file\"; \\\n",
    "done) | awk -F'\\t' '$2 > 1' | column -t\n"
   ]
  },
  {
   "cell_type": "code",
   "execution_count": 54,
   "id": "f45570dd",
   "metadata": {},
   "outputs": [
    {
     "name": "stdout",
     "output_type": "stream",
     "text": [
      "File                                Columns\n",
      "jgp.csv                             3\n",
      "nfz_hospitalizations_2019-2021.csv  1\n",
      "nfz_hospitalizations_2022.csv       1\n"
     ]
    }
   ],
   "source": [
    "!(echo -e \"File\\tColumns\"; \\\n",
    "for file in ../app/data/*.csv; do \\\n",
    "    printf \"%s\\t\" \"$(basename \"$file\")\"; \\\n",
    "    awk -F'|' 'NR==1 {print NF; exit}' \"$file\"; \\\n",
    "done) | column -t"
   ]
  }
 ],
 "metadata": {
  "kernelspec": {
   "display_name": "venv",
   "language": "python",
   "name": "python3"
  },
  "language_info": {
   "codemirror_mode": {
    "name": "ipython",
    "version": 3
   },
   "file_extension": ".py",
   "mimetype": "text/x-python",
   "name": "python",
   "nbconvert_exporter": "python",
   "pygments_lexer": "ipython3",
   "version": "3.11.2"
  }
 },
 "nbformat": 4,
 "nbformat_minor": 5
}
